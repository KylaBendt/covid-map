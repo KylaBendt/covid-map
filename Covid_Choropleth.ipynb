{
 "cells": [
  {
   "cell_type": "markdown",
   "metadata": {
    "id": "cyGACeVaJNGN"
   },
   "source": [
    "# Choropleth - color-coded map - COVID data"
   ]
  },
  {
   "cell_type": "code",
   "execution_count": 2,
   "metadata": {
    "id": "Q59k4AalI60l"
   },
   "outputs": [],
   "source": [
    "import datetime\n",
    "import folium\n",
    "import pandas as pd\n",
    "import requests\n",
    "state_data = requests.get('https://covidtracking.com/api/states/daily').json()\n",
    "# Turn data into data frame and take a peek.\n",
    "state_df = pd.DataFrame(state_data)\n",
    "#Dates are currently an integer - turn into DateTime objects.\n",
    "state_df['date'] = pd.to_datetime(state_df['date'].astype(str))\n",
    "#We want the data from yesterday for every state\n",
    "today = pd.to_datetime(datetime.date.today())\n",
    "yesterday = today - datetime.timedelta(days=1)\n",
    "yesterday_df = state_df[state_df['date']==yesterday]\n",
    "# We also need state boundaries.\n",
    "state_geo_url = 'https://raw.githubusercontent.com/python-visualization/folium/master/examples/data/us-states.json'\n",
    "# Define our bins for color coding\n",
    "bins = list(yesterday_df['positive'].quantile([0,.25, .5, .75, 1]))\n",
    "m = folium.Map(location=[48,-102], zoom_start =3)\n",
    "\n",
    "positive_layer = folium.Choropleth(\n",
    "    name='Positive Tests', \n",
    "    geo_data=state_geo_url, \n",
    "    data=yesterday_df,\n",
    "    columns=['state', 'positive'],\n",
    "    key_on='feature.id',\n",
    "    fill_color='OrRd',\n",
    "    fill_opacity=0.7,\n",
    "    legend_name='Positive Tests',\n",
    "    bins=bins\n",
    ")\n",
    "\n",
    "positive_layer.add_to(m)\n",
    "m"
   ]
  }
 ],
 "metadata": {
  "colab": {
   "authorship_tag": "ABX9TyPNGoZhJH3KN9KFjK9p4c2v",
   "include_colab_link": true,
   "name": "Covid Choropleth.ipynb",
   "provenance": []
  },
  "kernelspec": {
   "display_name": "Python 3",
   "language": "python",
   "name": "python3"
  },
  "language_info": {
   "codemirror_mode": {
    "name": "ipython",
    "version": 3
   },
   "file_extension": ".py",
   "mimetype": "text/x-python",
   "name": "python",
   "nbconvert_exporter": "python",
   "pygments_lexer": "ipython3",
   "version": "3.8.5"
  }
 },
 "nbformat": 4,
 "nbformat_minor": 4
}
